{
 "cells": [
  {
   "cell_type": "markdown",
   "metadata": {
    "slideshow": {
     "slide_type": "slide"
    }
   },
   "source": [
    "# Telluric Correction Simulator"
   ]
  },
  {
   "cell_type": "code",
   "execution_count": 1,
   "metadata": {
    "pycharm": {
     "name": "#%%\n"
    }
   },
   "outputs": [],
   "source": [
    "import ipywidgets as widgets\n",
    "\n",
    "from simulator import correction_plot"
   ]
  },
  {
   "cell_type": "code",
   "execution_count": 2,
   "metadata": {
    "pycharm": {
     "name": "#%%\n"
    },
    "slideshow": {
     "slide_type": "subslide"
    }
   },
   "outputs": [
    {
     "data": {
      "application/vnd.jupyter.widget-view+json": {
       "model_id": "79f28d7982e847efb1916991dd81674f",
       "version_major": 2,
       "version_minor": 0
      },
      "text/plain": [
       "interactive(children=(IntSlider(value=100, description='n', max=190, min=10, step=10), FloatSlider(value=0.0, …"
      ]
     },
     "metadata": {},
     "output_type": "display_data"
    }
   ],
   "source": [
    "widgets.interact(correction_plot,\n",
    "    n=(10, 190, 10), \n",
    "    fit_mu=(-2., 2., 0.1),\n",
    "    fit_sigma=(0.1, 1.9, 0.1),\n",
    "    fit_strength=(0., 1., 0.05),\n",
    "    line_strength=(0., 1., 0.05),\n",
    "    noise=(0., 0.1, 0.01),\n",
    "    width=(3., 15., 1.)\n",
    ");"
   ]
  },
  {
   "cell_type": "code",
   "execution_count": null,
   "metadata": {
    "pycharm": {
     "name": "#%%\n"
    }
   },
   "outputs": [],
   "source": []
  }
 ],
 "metadata": {
  "kernelspec": {
   "display_name": "Python 3",
   "language": "python",
   "name": "python3"
  },
  "language_info": {
   "codemirror_mode": {
    "name": "ipython",
    "version": 3
   },
   "file_extension": ".py",
   "mimetype": "text/x-python",
   "name": "python",
   "nbconvert_exporter": "python",
   "pygments_lexer": "ipython3",
   "version": "3.9.5"
  },
  "widgets": {
   "application/vnd.jupyter.widget-state+json": {
    "state": {
     "096b4bb761964321b8476cb95c17ce53": {
      "model_module": "@jupyter-widgets/base",
      "model_module_version": "1.2.0",
      "model_name": "LayoutModel",
      "state": {}
     },
     "0c1e961d0e20408297efa86278d81889": {
      "model_module": "@jupyter-widgets/base",
      "model_module_version": "1.2.0",
      "model_name": "LayoutModel",
      "state": {}
     },
     "0c643d95d8f04e92a7d4fec9203b9366": {
      "model_module": "@jupyter-widgets/base",
      "model_module_version": "1.2.0",
      "model_name": "LayoutModel",
      "state": {}
     },
     "0d798ae1dcba4c1eac5577f25b78472d": {
      "model_module": "@jupyter-widgets/base",
      "model_module_version": "1.2.0",
      "model_name": "LayoutModel",
      "state": {}
     },
     "1017217cc2364f9b9c1d077c411e2c22": {
      "model_module": "@jupyter-widgets/controls",
      "model_module_version": "1.5.0",
      "model_name": "FloatSliderModel",
      "state": {
       "description": "fit_sigma",
       "layout": "IPY_MODEL_0d798ae1dcba4c1eac5577f25b78472d",
       "max": 1.9,
       "min": 0.1,
       "step": 0.1,
       "style": "IPY_MODEL_3be44cf10da1459cb5081c0bae5420bd",
       "value": 0.9999999999999999
      }
     },
     "11a58d4440b64395b4150514b17357ab": {
      "model_module": "@jupyter-widgets/base",
      "model_module_version": "1.2.0",
      "model_name": "LayoutModel",
      "state": {}
     },
     "15daf4a55d4d43619218ed44ac55b0c4": {
      "model_module": "@jupyter-widgets/controls",
      "model_module_version": "1.5.0",
      "model_name": "SliderStyleModel",
      "state": {
       "description_width": ""
      }
     },
     "21442b5332cb427b9fbcceb836ba09ef": {
      "model_module": "@jupyter-widgets/controls",
      "model_module_version": "1.5.0",
      "model_name": "SliderStyleModel",
      "state": {
       "description_width": ""
      }
     },
     "22778f1db46544bbb2a6ecdfef5e4fd6": {
      "model_module": "@jupyter-widgets/controls",
      "model_module_version": "1.5.0",
      "model_name": "IntSliderModel",
      "state": {
       "description": "fit_mu",
       "layout": "IPY_MODEL_9a7d2bbd58fd42f095f17bb8b29089c4",
       "max": 2,
       "min": -2,
       "style": "IPY_MODEL_21442b5332cb427b9fbcceb836ba09ef"
      }
     },
     "241866483e0e49f88ea676b83dcda774": {
      "model_module": "@jupyter-widgets/controls",
      "model_module_version": "1.5.0",
      "model_name": "SliderStyleModel",
      "state": {
       "description_width": ""
      }
     },
     "27b97329f2b6496a99a0102de5b8fa02": {
      "model_module": "@jupyter-widgets/controls",
      "model_module_version": "1.5.0",
      "model_name": "FloatSliderModel",
      "state": {
       "description": "fit_gamma",
       "layout": "IPY_MODEL_a9600b9e90f74c548811b5eaf950a6c9",
       "max": 1,
       "step": 0.1,
       "style": "IPY_MODEL_4b56d2026f6a4664a18b659f553da134",
       "value": 0.5
      }
     },
     "2b8726101a2f404e96784e61afba0f9b": {
      "model_module": "@jupyter-widgets/controls",
      "model_module_version": "1.5.0",
      "model_name": "SliderStyleModel",
      "state": {
       "description_width": ""
      }
     },
     "2c1fc337a4a84c84a49f949dec34050d": {
      "model_module": "@jupyter-widgets/controls",
      "model_module_version": "1.5.0",
      "model_name": "VBoxModel",
      "state": {
       "_dom_classes": [
        "widget-interact"
       ],
       "children": [
        "IPY_MODEL_8d923ef64370418bb225ce1a74a79f09",
        "IPY_MODEL_22778f1db46544bbb2a6ecdfef5e4fd6",
        "IPY_MODEL_68b393c1522f4afdaafd04c878a98e99",
        "IPY_MODEL_27b97329f2b6496a99a0102de5b8fa02",
        "IPY_MODEL_68d770191f3e4f66a32fa362493c1149",
        "IPY_MODEL_d5495aac0a4347ac947fa702ec784225",
        "IPY_MODEL_2d447edb0ac64296b994e5884efea954",
        "IPY_MODEL_d86db0713e614781aef69c0380e7f3c1",
        "IPY_MODEL_8a8360c47e9c4bac9d0b5f7a2b93989d",
        "IPY_MODEL_c2f413228a614953b27df3d3de768f21",
        "IPY_MODEL_596b4a75bba645ef91e46f9fccb63f2f"
       ],
       "layout": "IPY_MODEL_11a58d4440b64395b4150514b17357ab"
      }
     },
     "2d447edb0ac64296b994e5884efea954": {
      "model_module": "@jupyter-widgets/controls",
      "model_module_version": "1.5.0",
      "model_name": "FloatSliderModel",
      "state": {
       "description": "line_gamma",
       "layout": "IPY_MODEL_096b4bb761964321b8476cb95c17ce53",
       "max": 1,
       "step": 0.1,
       "style": "IPY_MODEL_241866483e0e49f88ea676b83dcda774",
       "value": 0.5
      }
     },
     "2fa7d864b25b400995d4f7e701b31a16": {
      "model_module": "@jupyter-widgets/controls",
      "model_module_version": "1.5.0",
      "model_name": "SliderStyleModel",
      "state": {
       "description_width": ""
      }
     },
     "304a36df574249e794f9235db4f3f728": {
      "model_module": "@jupyter-widgets/controls",
      "model_module_version": "1.5.0",
      "model_name": "SliderStyleModel",
      "state": {
       "description_width": ""
      }
     },
     "394bd0b5f87a4c41a695bb3d3f829eec": {
      "model_module": "@jupyter-widgets/controls",
      "model_module_version": "1.5.0",
      "model_name": "SliderStyleModel",
      "state": {
       "description_width": ""
      }
     },
     "3be44cf10da1459cb5081c0bae5420bd": {
      "model_module": "@jupyter-widgets/controls",
      "model_module_version": "1.5.0",
      "model_name": "SliderStyleModel",
      "state": {
       "description_width": ""
      }
     },
     "43a60df5e46c4678b809784869141a2d": {
      "model_module": "@jupyter-widgets/base",
      "model_module_version": "1.2.0",
      "model_name": "LayoutModel",
      "state": {}
     },
     "4a98763c23b2440aa69b51cdc80b44b5": {
      "model_module": "@jupyter-widgets/base",
      "model_module_version": "1.2.0",
      "model_name": "LayoutModel",
      "state": {}
     },
     "4b56d2026f6a4664a18b659f553da134": {
      "model_module": "@jupyter-widgets/controls",
      "model_module_version": "1.5.0",
      "model_name": "SliderStyleModel",
      "state": {
       "description_width": ""
      }
     },
     "4ce4a44afb9b49ff80538e6e437fcca5": {
      "model_module": "@jupyter-widgets/controls",
      "model_module_version": "1.5.0",
      "model_name": "SliderStyleModel",
      "state": {
       "description_width": ""
      }
     },
     "596b4a75bba645ef91e46f9fccb63f2f": {
      "model_module": "@jupyter-widgets/output",
      "model_module_version": "1.0.0",
      "model_name": "OutputModel",
      "state": {
       "layout": "IPY_MODEL_a6f25f4d251448a1a527b3ad5f1fd525",
       "outputs": [
        {
         "data": {
          "image/png": "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\n",
          "text/plain": "<Figure size 432x288 with 1 Axes>"
         },
         "metadata": {
          "needs_background": "light"
         },
         "output_type": "display_data"
        }
       ]
      }
     },
     "5bf2711ba94e4ff288289535ead7c8ee": {
      "model_module": "@jupyter-widgets/controls",
      "model_module_version": "1.5.0",
      "model_name": "SliderStyleModel",
      "state": {
       "description_width": ""
      }
     },
     "68b393c1522f4afdaafd04c878a98e99": {
      "model_module": "@jupyter-widgets/controls",
      "model_module_version": "1.5.0",
      "model_name": "FloatSliderModel",
      "state": {
       "description": "fit_alpha",
       "layout": "IPY_MODEL_0c1e961d0e20408297efa86278d81889",
       "max": 1,
       "step": 0.1,
       "style": "IPY_MODEL_4ce4a44afb9b49ff80538e6e437fcca5",
       "value": 0.5
      }
     },
     "68d770191f3e4f66a32fa362493c1149": {
      "model_module": "@jupyter-widgets/controls",
      "model_module_version": "1.5.0",
      "model_name": "FloatSliderModel",
      "state": {
       "description": "fit_strength",
       "layout": "IPY_MODEL_4a98763c23b2440aa69b51cdc80b44b5",
       "max": 2,
       "step": 0.1,
       "style": "IPY_MODEL_394bd0b5f87a4c41a695bb3d3f829eec",
       "value": 1
      }
     },
     "71975cd5028e44e29e27f07c6cd07b36": {
      "model_module": "@jupyter-widgets/base",
      "model_module_version": "1.2.0",
      "model_name": "LayoutModel",
      "state": {}
     },
     "71ebf96ce31d4d4090ac8c201734951a": {
      "model_module": "@jupyter-widgets/controls",
      "model_module_version": "1.5.0",
      "model_name": "SliderStyleModel",
      "state": {
       "description_width": ""
      }
     },
     "71fd8bee8cc841cfad5c1c904534e43f": {
      "model_module": "@jupyter-widgets/controls",
      "model_module_version": "1.5.0",
      "model_name": "SliderStyleModel",
      "state": {
       "description_width": ""
      }
     },
     "79bfd3e3311e414ab35b455b4a8c4c98": {
      "model_module": "@jupyter-widgets/controls",
      "model_module_version": "1.5.0",
      "model_name": "VBoxModel",
      "state": {
       "_dom_classes": [
        "widget-interact"
       ],
       "children": [
        "IPY_MODEL_a8a0ab4e8a3c456f8179a4f7b1ee53d6",
        "IPY_MODEL_9ab822c7bd484be286f76f58b84c5466",
        "IPY_MODEL_1017217cc2364f9b9c1d077c411e2c22",
        "IPY_MODEL_9e5e5e66604740c488d884052dc77131",
        "IPY_MODEL_869ec6af7e5d471499f09158a42d05dc",
        "IPY_MODEL_920f78f52c3243379518fcb9f317de62",
        "IPY_MODEL_aafa0abb4abf486e950d9e2efb0431a6",
        "IPY_MODEL_df6f5622f62b456aa18181c7b3384339"
       ],
       "layout": "IPY_MODEL_c9e11666cc054021864fc905f4a3b70d"
      }
     },
     "827669552386467f867073da0ac1f84e": {
      "model_module": "@jupyter-widgets/base",
      "model_module_version": "1.2.0",
      "model_name": "LayoutModel",
      "state": {}
     },
     "869ec6af7e5d471499f09158a42d05dc": {
      "model_module": "@jupyter-widgets/controls",
      "model_module_version": "1.5.0",
      "model_name": "FloatSliderModel",
      "state": {
       "description": "line_strength",
       "layout": "IPY_MODEL_43a60df5e46c4678b809784869141a2d",
       "max": 1,
       "step": 0.1,
       "style": "IPY_MODEL_2fa7d864b25b400995d4f7e701b31a16",
       "value": 0.5
      }
     },
     "8a8360c47e9c4bac9d0b5f7a2b93989d": {
      "model_module": "@jupyter-widgets/controls",
      "model_module_version": "1.5.0",
      "model_name": "FloatSliderModel",
      "state": {
       "description": "noise",
       "layout": "IPY_MODEL_e16304f601184cb38aa3dd2631333864",
       "max": 0.1,
       "step": 0.01,
       "style": "IPY_MODEL_71ebf96ce31d4d4090ac8c201734951a",
       "value": 0.05
      }
     },
     "8d923ef64370418bb225ce1a74a79f09": {
      "model_module": "@jupyter-widgets/controls",
      "model_module_version": "1.5.0",
      "model_name": "IntSliderModel",
      "state": {
       "description": "n",
       "layout": "IPY_MODEL_f72f0a91de724331b4fe82c2380ffaa9",
       "max": 190,
       "min": 10,
       "style": "IPY_MODEL_2b8726101a2f404e96784e61afba0f9b",
       "value": 100
      }
     },
     "8e1db1d66d1142e084e5feb33b87c401": {
      "model_module": "@jupyter-widgets/controls",
      "model_module_version": "1.5.0",
      "model_name": "SliderStyleModel",
      "state": {
       "description_width": ""
      }
     },
     "920f78f52c3243379518fcb9f317de62": {
      "model_module": "@jupyter-widgets/controls",
      "model_module_version": "1.5.0",
      "model_name": "FloatSliderModel",
      "state": {
       "description": "noise",
       "layout": "IPY_MODEL_827669552386467f867073da0ac1f84e",
       "max": 0.1,
       "step": 0.01,
       "style": "IPY_MODEL_8e1db1d66d1142e084e5feb33b87c401",
       "value": 0.05
      }
     },
     "945cd0105d7c4ddf9653d437c9606a1c": {
      "model_module": "@jupyter-widgets/controls",
      "model_module_version": "1.5.0",
      "model_name": "SliderStyleModel",
      "state": {
       "description_width": ""
      }
     },
     "9a7d2bbd58fd42f095f17bb8b29089c4": {
      "model_module": "@jupyter-widgets/base",
      "model_module_version": "1.2.0",
      "model_name": "LayoutModel",
      "state": {}
     },
     "9ab822c7bd484be286f76f58b84c5466": {
      "model_module": "@jupyter-widgets/controls",
      "model_module_version": "1.5.0",
      "model_name": "FloatSliderModel",
      "state": {
       "description": "fit_mu",
       "layout": "IPY_MODEL_0c643d95d8f04e92a7d4fec9203b9366",
       "max": 2,
       "min": -2,
       "step": 0.1,
       "style": "IPY_MODEL_945cd0105d7c4ddf9653d437c9606a1c"
      }
     },
     "9e5e5e66604740c488d884052dc77131": {
      "model_module": "@jupyter-widgets/controls",
      "model_module_version": "1.5.0",
      "model_name": "FloatSliderModel",
      "state": {
       "description": "fit_strength",
       "layout": "IPY_MODEL_71975cd5028e44e29e27f07c6cd07b36",
       "max": 1,
       "step": 0.1,
       "style": "IPY_MODEL_15daf4a55d4d43619218ed44ac55b0c4",
       "value": 0.5
      }
     },
     "a3cc9b8f4c024c739ad53f9199f9d212": {
      "model_module": "@jupyter-widgets/base",
      "model_module_version": "1.2.0",
      "model_name": "LayoutModel",
      "state": {}
     },
     "a41422c255a540e58a8e3e4109c59f78": {
      "model_module": "@jupyter-widgets/controls",
      "model_module_version": "1.5.0",
      "model_name": "SliderStyleModel",
      "state": {
       "description_width": ""
      }
     },
     "a6f25f4d251448a1a527b3ad5f1fd525": {
      "model_module": "@jupyter-widgets/base",
      "model_module_version": "1.2.0",
      "model_name": "LayoutModel",
      "state": {
       "height": "300px"
      }
     },
     "a7b717a5697a4d49954f4c73222c8ae8": {
      "model_module": "@jupyter-widgets/base",
      "model_module_version": "1.2.0",
      "model_name": "LayoutModel",
      "state": {}
     },
     "a826250b30d64d68b5e2dbb08f896703": {
      "model_module": "@jupyter-widgets/base",
      "model_module_version": "1.2.0",
      "model_name": "LayoutModel",
      "state": {}
     },
     "a8a0ab4e8a3c456f8179a4f7b1ee53d6": {
      "model_module": "@jupyter-widgets/controls",
      "model_module_version": "1.5.0",
      "model_name": "IntSliderModel",
      "state": {
       "description": "n",
       "layout": "IPY_MODEL_a3cc9b8f4c024c739ad53f9199f9d212",
       "max": 190,
       "min": 10,
       "style": "IPY_MODEL_a41422c255a540e58a8e3e4109c59f78",
       "value": 100
      }
     },
     "a9600b9e90f74c548811b5eaf950a6c9": {
      "model_module": "@jupyter-widgets/base",
      "model_module_version": "1.2.0",
      "model_name": "LayoutModel",
      "state": {}
     },
     "aafa0abb4abf486e950d9e2efb0431a6": {
      "model_module": "@jupyter-widgets/controls",
      "model_module_version": "1.5.0",
      "model_name": "IntSliderModel",
      "state": {
       "description": "plot_width",
       "layout": "IPY_MODEL_df898a3b79644b6186f9dcdff7e293ee",
       "max": 15,
       "min": 3,
       "style": "IPY_MODEL_304a36df574249e794f9235db4f3f728",
       "value": 9
      }
     },
     "c2f413228a614953b27df3d3de768f21": {
      "model_module": "@jupyter-widgets/controls",
      "model_module_version": "1.5.0",
      "model_name": "IntSliderModel",
      "state": {
       "description": "plot_width",
       "layout": "IPY_MODEL_a7b717a5697a4d49954f4c73222c8ae8",
       "max": 15,
       "min": 3,
       "style": "IPY_MODEL_71fd8bee8cc841cfad5c1c904534e43f",
       "value": 9
      }
     },
     "c9e11666cc054021864fc905f4a3b70d": {
      "model_module": "@jupyter-widgets/base",
      "model_module_version": "1.2.0",
      "model_name": "LayoutModel",
      "state": {}
     },
     "d23f843460af433d9873c0e4ef4e8dc1": {
      "model_module": "@jupyter-widgets/controls",
      "model_module_version": "1.5.0",
      "model_name": "SliderStyleModel",
      "state": {
       "description_width": ""
      }
     },
     "d38bc1f0e9104f609c9d199054010a38": {
      "model_module": "@jupyter-widgets/base",
      "model_module_version": "1.2.0",
      "model_name": "LayoutModel",
      "state": {}
     },
     "d5495aac0a4347ac947fa702ec784225": {
      "model_module": "@jupyter-widgets/controls",
      "model_module_version": "1.5.0",
      "model_name": "FloatSliderModel",
      "state": {
       "description": "line_alpha",
       "layout": "IPY_MODEL_a826250b30d64d68b5e2dbb08f896703",
       "max": 1,
       "step": 0.1,
       "style": "IPY_MODEL_5bf2711ba94e4ff288289535ead7c8ee",
       "value": 0.5
      }
     },
     "d86db0713e614781aef69c0380e7f3c1": {
      "model_module": "@jupyter-widgets/controls",
      "model_module_version": "1.5.0",
      "model_name": "FloatSliderModel",
      "state": {
       "description": "line_strength",
       "layout": "IPY_MODEL_d38bc1f0e9104f609c9d199054010a38",
       "max": 2,
       "step": 0.1,
       "style": "IPY_MODEL_d23f843460af433d9873c0e4ef4e8dc1",
       "value": 1
      }
     },
     "dee718db6e004befa44c28bc9f52bd8a": {
      "model_module": "@jupyter-widgets/base",
      "model_module_version": "1.2.0",
      "model_name": "LayoutModel",
      "state": {
       "height": "300px"
      }
     },
     "df6f5622f62b456aa18181c7b3384339": {
      "model_module": "@jupyter-widgets/output",
      "model_module_version": "1.0.0",
      "model_name": "OutputModel",
      "state": {
       "layout": "IPY_MODEL_dee718db6e004befa44c28bc9f52bd8a",
       "outputs": [
        {
         "data": {
          "image/png": "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\n",
          "text/plain": "<Figure size 432x288 with 1 Axes>"
         },
         "metadata": {
          "needs_background": "light"
         },
         "output_type": "display_data"
        }
       ]
      }
     },
     "df898a3b79644b6186f9dcdff7e293ee": {
      "model_module": "@jupyter-widgets/base",
      "model_module_version": "1.2.0",
      "model_name": "LayoutModel",
      "state": {}
     },
     "e16304f601184cb38aa3dd2631333864": {
      "model_module": "@jupyter-widgets/base",
      "model_module_version": "1.2.0",
      "model_name": "LayoutModel",
      "state": {}
     },
     "f72f0a91de724331b4fe82c2380ffaa9": {
      "model_module": "@jupyter-widgets/base",
      "model_module_version": "1.2.0",
      "model_name": "LayoutModel",
      "state": {}
     }
    },
    "version_major": 2,
    "version_minor": 0
   }
  }
 },
 "nbformat": 4,
 "nbformat_minor": 2
}